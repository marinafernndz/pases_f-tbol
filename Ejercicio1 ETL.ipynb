{
 "cells": [
  {
   "cell_type": "markdown",
   "metadata": {},
   "source": [
    "### EJERCICIO 1"
   ]
  },
  {
   "cell_type": "markdown",
   "metadata": {},
   "source": [
    "La empresa Opta (https://www.optasports.com/) proporciona información detallada\n",
    "acerca de los eventos que ocurren en partidos de fútbol, tales como pases, tiros,\n",
    "tarjetas, goles, penaltis, etc.\n",
    "Los datos se proporcionan en formato XML, con la siguiente estructura:\n",
    "|-- Games\n",
    "| |-- Game\n",
    "| | |-- Event\n",
    "| | |-- Q\n",
    "\n",
    "Cada evento Event contiene un atributo type_id que identifica el tipo de evento\n",
    "(En este ejercicio, nos centraremos en los pases, que tienen type_id=\"1\"). El resto\n",
    "de atributos de los campos Event de interés se detallan a continuación:\n",
    "• period_id - Primera (1) o segunda (2) parte del partido\n",
    "• min - Minuto del partido en el que se produjo el evento\n",
    "• sec - Segundo del partido en el que se produjo el evento\n",
    "• outcome - En los pases, outcome=\"1\" indica que el pase fue exitoso\n",
    "• x - Valor de la coordenada x en el campo donde se produjo el evento\n",
    "• y - Valor de la coordenada y en el campo donde se produjo el evento\n",
    "\n",
    "Dentro de cada evento, existen una serie de cualificadores Q que proporcionan\n",
    "información detallada de cada uno de los eventos. Para este ejercicio, nos centraremos\n",
    "en el atributo qualifier_id, concretamente en dos valores:\n",
    "* qualifier_id = \"140\" – Coordenada x final del pase\n",
    "* qualifier_id = \"141\" – Coordenada y final del pase"
   ]
  },
  {
   "cell_type": "markdown",
   "metadata": {},
   "source": [
    "A partir del fichero OptaF24.xml almacenado en un servidor FTP, que contiene los eventos\n",
    "de un partido concreto, crear un dataframe que contenga todos los pases de dicho partido.\n",
    "Este dataframe deberá contener los siguientes campos (columnas):\n",
    "    \n",
    "* Columna Descripción\n",
    "* team Nombre del equipo que realizó el pase\n",
    "* half Primer o segundo tiempo\n",
    "* minute Minuto del partido\n",
    "* second Segundo del partido\n",
    "* x_origin Coordenada x del inicio del pase\n",
    "* y_origin Coordenada y del inicio del pase\n",
    "* x_destination Coordenada x del final del pase\n",
    "* y_destination Coordenada y del final del pase\n",
    "* outcome Indica si el pase tuvo éxito (1) o no (0)"
   ]
  },
  {
   "cell_type": "markdown",
   "metadata": {},
   "source": [
    "1) Descarga el archivo OptaF24.xml creando una conexión al servidor FTP\n",
    "* Servidor: f25-preview.runhosting.com\n",
    "* Usuario: 3185129_EOI\n",
    "* Contraseña: FTP_EOI1920\n",
    "\n"
   ]
  },
  {
   "cell_type": "code",
   "execution_count": 29,
   "metadata": {},
   "outputs": [
    {
     "name": "stdout",
     "output_type": "stream",
     "text": [
      "drwxr-xr-x   2 3185129_EOI 1111           58 Nov 24  2019 .\n",
      "drwxr-xr-x   2 3185129_EOI 1111           58 Nov 24  2019 ..\n",
      "-rw-r--r--   1 3185129_EOI 1111        33182 Nov 24  2019 books.xml\n",
      "-rw-r--r--   1 3185129_EOI 1111         3841 Oct 20  2019 colors.json\n",
      "-rw-r--r--   1 3185129_EOI 1111       763509 Oct 20  2019 OptaF24.xml\n"
     ]
    },
    {
     "data": {
      "text/plain": [
       "'226 Transfer complete'"
      ]
     },
     "execution_count": 29,
     "metadata": {},
     "output_type": "execute_result"
    }
   ],
   "source": [
    "import pandas as pd\n",
    "import xml.etree.ElementTree as ET\n",
    "from ftplib import FTP\n",
    "\n",
    "\n",
    "host =  'f25-preview.runhosting.com'\n",
    "user = '3185129_EOI'\n",
    "passwd= 'FTP_EOI1920'\n",
    "ftp = FTP(host, user, passwd)\n",
    "\n",
    "ftp.dir()\n",
    "filename= \"OptaF24.xml\"\n",
    "ftp.retrbinary(\"RETR \" +filename,\n",
    "              open(filename,\"wb\").write)\n"
   ]
  },
  {
   "cell_type": "markdown",
   "metadata": {},
   "source": [
    "2) Crea una lista inicialmente vacía para cada de las columnas del dataframe\n"
   ]
  },
  {
   "cell_type": "code",
   "execution_count": 30,
   "metadata": {},
   "outputs": [],
   "source": [
    "tree = ET.parse(filename)\n",
    "raiz = tree.getroot()\n",
    "   \n",
    "team = []\n",
    "half = []\n",
    "minute = []\n",
    "second = []    \n",
    "x_origin = []\n",
    "y_origin = []\n",
    "x_destination = []\n",
    "y_destination = []\n",
    "outcome = []"
   ]
  },
  {
   "cell_type": "markdown",
   "metadata": {},
   "source": [
    "3) Itera cada evento y filtra aquellos que correspondan a pases (atributo type_id=\"1\"), añadiendo a cada lista del paso anterior los atributos correspondientes de cada evento.\n"
   ]
  },
  {
   "cell_type": "code",
   "execution_count": 34,
   "metadata": {},
   "outputs": [
    {
     "name": "stdout",
     "output_type": "stream",
     "text": [
      "                  team half min second x_origin y_origin x_destination  \\\n",
      "0      Manchester City    1   0      1     50.1     50.0          52.4   \n",
      "1      Manchester City    1   0      2     48.2     49.1            29   \n",
      "2      Manchester City    1   0     19     27.8    100.0          49.3   \n",
      "3     Bolton Wanderers    1   0     23     50.9     20.0          63.6   \n",
      "4      Manchester City    1   0     30     29.3     73.0          30.2   \n",
      "...                ...  ...  ..    ...      ...      ...           ...   \n",
      "1887  Bolton Wanderers    2  93     42     16.3     82.5          71.7   \n",
      "1888   Manchester City    2  93     45     28.6     27.6          34.2   \n",
      "1889   Manchester City    2  93     46     34.4      9.1            63   \n",
      "1890   Manchester City    2  93     47     62.4     20.7          61.8   \n",
      "1891  Bolton Wanderers    2  94      4        5     63.0          68.1   \n",
      "\n",
      "     y_destination outcome  \n",
      "0             49.1       1  \n",
      "1             76.5       1  \n",
      "2             93.4       0  \n",
      "3             30.1       1  \n",
      "4             55.6       1  \n",
      "...            ...     ...  \n",
      "1887          70.7       0  \n",
      "1888           9.5       1  \n",
      "1889          20.7       1  \n",
      "1890          12.5       1  \n",
      "1891          57.5       1  \n",
      "\n",
      "[1892 rows x 9 columns]\n"
     ]
    }
   ],
   "source": [
    "equipo = {raiz[0].attrib[\"home_team_id\"]: raiz[0].attrib[\"home_team_name\"],\n",
    "            raiz[0].attrib[\"away_team_id\"]: raiz[0].attrib[\"away_team_name\"]}\n",
    "\n",
    "\n",
    "for hijo in raiz:    \n",
    "    for evento in hijo:\n",
    "        if evento.attrib.get(\"type_id\") == '1':\n",
    "            team.append(equipo[evento.attrib.get(\"team_id\")])  \n",
    "            half.append(evento.attrib.get(\"period_id\"))\n",
    "            minute.append(evento.attrib.get(\"min\"))\n",
    "            second.append(evento.attrib.get(\"sec\"))\n",
    "            x_origin.append(float(evento.attrib.get(\"x\")))\n",
    "            y_origin.append(evento.attrib.get(\"y\"))\n",
    "            outcome.append(evento.attrib.get(\"outcome\"))            \n",
    "            for qualifier in evento:               \n",
    "                if qualifier.attrib.get(\"qualifier_id\") == \"140\":\n",
    "                    x_destination.append(float(qualifier.attrib.get(\"value\")))\n",
    "                if qualifier.attrib.get(\"qualifier_id\") == \"141\":\n",
    "                    y_destination.append(qualifier.attrib.get(\"value\"))\n",
    "                \n",
    "column_titles = [\"team\", \"half\", \"min\", \"second\",\"x_origin\", \"y_origin\", \"x_destination\", \"y_destination\", \"outcome\"]\n",
    "table = pd.DataFrame(data=[team, half, minute,second, x_origin, y_origin, x_destination, y_destination, outcome], index=column_titles)            \n",
    "table = table.T\n",
    "print(table)"
   ]
  },
  {
   "cell_type": "markdown",
   "metadata": {},
   "source": [
    "4) Obtén los pases de más de 20 metros de avance en la coordenada x. ¿Qué equipo ha efectuado más veces estos pases?   \n"
   ]
  },
  {
   "cell_type": "code",
   "execution_count": 33,
   "metadata": {},
   "outputs": [
    {
     "data": {
      "text/html": [
       "<div>\n",
       "<style scoped>\n",
       "    .dataframe tbody tr th:only-of-type {\n",
       "        vertical-align: middle;\n",
       "    }\n",
       "\n",
       "    .dataframe tbody tr th {\n",
       "        vertical-align: top;\n",
       "    }\n",
       "\n",
       "    .dataframe thead th {\n",
       "        text-align: right;\n",
       "    }\n",
       "</style>\n",
       "<table border=\"1\" class=\"dataframe\">\n",
       "  <thead>\n",
       "    <tr style=\"text-align: right;\">\n",
       "      <th></th>\n",
       "      <th>long_pase</th>\n",
       "    </tr>\n",
       "    <tr>\n",
       "      <th>team</th>\n",
       "      <th></th>\n",
       "    </tr>\n",
       "  </thead>\n",
       "  <tbody>\n",
       "    <tr>\n",
       "      <th>Bolton Wanderers</th>\n",
       "      <td>89</td>\n",
       "    </tr>\n",
       "    <tr>\n",
       "      <th>Manchester City</th>\n",
       "      <td>74</td>\n",
       "    </tr>\n",
       "  </tbody>\n",
       "</table>\n",
       "</div>"
      ],
      "text/plain": [
       "                  long_pase\n",
       "team                       \n",
       "Bolton Wanderers         89\n",
       "Manchester City          74"
      ]
     },
     "execution_count": 33,
     "metadata": {},
     "output_type": "execute_result"
    }
   ],
   "source": [
    "table['long_pase']=table['x_destination'].subtract(table['x_origin'])\n",
    "table_2 = table[table['long_pase']>20.0]\n",
    "table_2[['team','long_pase']].groupby('team').count()"
   ]
  }
 ],
 "metadata": {
  "kernelspec": {
   "display_name": "Python 3",
   "language": "python",
   "name": "python3"
  },
  "language_info": {
   "codemirror_mode": {
    "name": "ipython",
    "version": 3
   },
   "file_extension": ".py",
   "mimetype": "text/x-python",
   "name": "python",
   "nbconvert_exporter": "python",
   "pygments_lexer": "ipython3",
   "version": "3.8.5"
  }
 },
 "nbformat": 4,
 "nbformat_minor": 4
}
